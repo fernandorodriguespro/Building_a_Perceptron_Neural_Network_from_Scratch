{
 "cells": [
  {
   "cell_type": "code",
   "execution_count": 335,
   "metadata": {},
   "outputs": [],
   "source": [
    "import numpy as np\n",
    "import pandas as pd\n",
    "\n",
    "np.random.seed(42)"
   ]
  },
  {
   "cell_type": "code",
   "execution_count": 336,
   "metadata": {},
   "outputs": [],
   "source": [
    "class Perceptron_Neural_Network:\n",
    "    \n",
    "    # Define/create initial synaptic weights\n",
    "    def __init__(self):\n",
    "        self.__W = np.array(np.random.rand(2,1)) \n",
    "        self.__b = np.random.rand(1)[0]\n",
    "                    \n",
    "    \n",
    "    def stepFunction(self, result_of_matrix_mult):\n",
    "        if result_of_matrix_mult >= 0:\n",
    "            return 1\n",
    "        return 0\n",
    "\n",
    "    \n",
    "    def perceptronStep(self, learning_rate):\n",
    "        # Here the Perceptron Trick is applyed\n",
    "        for i in range(len(self.__X)):\n",
    "            y_hat = self.predict(self.__X[i])\n",
    "            # If the point is classified negative, but has a positive label\n",
    "            # add x1 multiplied by learning_rate (aka alpha) on w1\n",
    "            # add x2 multiplied by learning_rate on w2\n",
    "            # add alpha from b\n",
    "            if self.__y[i]-y_hat == 1: \n",
    "                self.__W[0] += X[i][0]*learning_rate\n",
    "                self.__W[1] += X[i][1]*learning_rate\n",
    "                self.__b += learning_rate\n",
    "            # If the point is classified positive, but has a negative label\n",
    "            # subtract x1 multiplied by learning_rate (aka alpha) from w1\n",
    "            # subtract x2 multiplied by learning_rate from w2\n",
    "            # subtract alpha from b\n",
    "            elif self.__y[i]-y_hat == -1: \n",
    "                self.__W[0] -= X[i][0]*learning_rate\n",
    "                self.__W[1] -= X[i][1]*learning_rate\n",
    "                self.__b -= learning_rate\n",
    "    \n",
    "    \n",
    "    def fit(self, X, y, learning_rate=0.1, epochs = 25):\n",
    "                \n",
    "        self.__X = X\n",
    "        self.__y = y\n",
    "                \n",
    "        for i in range(epochs):             \n",
    "            # For each epoch, we apply the perceptronStep\n",
    "            self.perceptronStep(learning_rate)            \n",
    "       \n",
    "    \n",
    "    def predict(self, X):\n",
    "        return self.stepFunction((np.matmul(X,self.__W)+self.__b)[0])\n",
    "    \n",
    "    \n",
    "    def show_weights(self):\n",
    "        print(self.__W)\n",
    "        print(self.__b)\n",
    "        "
   ]
  },
  {
   "cell_type": "code",
   "execution_count": 337,
   "metadata": {},
   "outputs": [],
   "source": [
    "data = pd.read_table('./grade_values.csv', delimiter=',', names=['grades','test','label'])"
   ]
  },
  {
   "cell_type": "code",
   "execution_count": 338,
   "metadata": {},
   "outputs": [],
   "source": [
    "# slicing the data\n",
    "X = data.iloc[:, :2].values\n",
    "y = data.iloc[:, -1:].values"
   ]
  },
  {
   "cell_type": "code",
   "execution_count": 339,
   "metadata": {},
   "outputs": [
    {
     "data": {
      "text/plain": [
       "0"
      ]
     },
     "execution_count": 339,
     "metadata": {},
     "output_type": "execute_result"
    }
   ],
   "source": [
    "perceptron = Perceptron_Neural_Network()\n",
    "perceptron.fit(X, y, learning_rate=0.1, epochs=100)\n",
    "perceptron.predict([0.45829,0.4641])"
   ]
  },
  {
   "cell_type": "code",
   "execution_count": 340,
   "metadata": {},
   "outputs": [
    {
     "name": "stdout",
     "output_type": "stream",
     "text": [
      "[[-0.50753188]\n",
      " [-0.89464919]]\n",
      "0.631993941811\n"
     ]
    }
   ],
   "source": [
    "perceptron.show_weights()"
   ]
  },
  {
   "cell_type": "code",
   "execution_count": null,
   "metadata": {},
   "outputs": [],
   "source": []
  }
 ],
 "metadata": {
  "kernelspec": {
   "display_name": "Python 3",
   "language": "python",
   "name": "python3"
  },
  "language_info": {
   "codemirror_mode": {
    "name": "ipython",
    "version": 3
   },
   "file_extension": ".py",
   "mimetype": "text/x-python",
   "name": "python",
   "nbconvert_exporter": "python",
   "pygments_lexer": "ipython3",
   "version": "3.6.1"
  }
 },
 "nbformat": 4,
 "nbformat_minor": 2
}
